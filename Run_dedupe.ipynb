{
 "cells": [
  {
   "cell_type": "code",
   "execution_count": null,
   "id": "28b474f7",
   "metadata": {},
   "outputs": [],
   "source": []
  },
  {
   "cell_type": "code",
   "execution_count": 1,
   "id": "3f4ddc6f",
   "metadata": {},
   "outputs": [
    {
     "name": "stdout",
     "output_type": "stream",
     "text": [
      "Entity type: Person\n",
      "[{'field': 'jobTitle', 'type': 'String'}, {'field': 'birthDate', 'type': 'String'}, {'field': 'gender', 'type': 'String'}, {'field': 'email', 'type': 'String'}, {'field': 'knowsLanguage', 'type': 'String'}, {'field': 'name', 'type': 'String'}]\n",
      "\n",
      "Entity type: Department\n",
      "[{'field': 'name', 'type': 'String'}]\n",
      "\n",
      "Entity type: ContactPoint\n",
      "[{'field': 'contactType', 'type': 'String'}, {'field': 'faxNumber', 'type': 'String'}, {'field': 'availableLanguage', 'type': 'String'}, {'field': 'email', 'type': 'String'}, {'field': 'telephone', 'type': 'String'}]\n",
      "\n",
      "Entity type: PostalAddress\n",
      "[{'field': 'postalCode', 'type': 'String'}, {'field': 'addressCountry', 'type': 'String'}, {'field': 'addressLocality', 'type': 'String'}, {'field': 'streetAddress', 'type': 'String'}]\n",
      "\n",
      "Entity type: MedicalOrganization\n",
      "[{'field': 'name', 'type': 'String'}]\n",
      "\n"
     ]
    }
   ],
   "source": [
    "import rdflib\n",
    "\n",
    "ttl_path = \"data/healthcare_graph_original_v2.ttl\"\n",
    "\n",
    "def extract_dedupe_fields_from_ttl(ttl_path):\n",
    "    g = rdflib.Graph()\n",
    "    g.parse(\"data/healthcare_graph_original_v2.ttl\")\n",
    "    \n",
    "    # Map: {entity_type: set([literal_predicate_names])}\n",
    "    type_predicate_map = {}\n",
    "    \n",
    "    for s in set(g.subjects()):\n",
    "        # Get type\n",
    "        types = [str(o) for o in g.objects(s, rdflib.RDF.type)]\n",
    "        if not types:\n",
    "            continue\n",
    "        type_ = types[0].split(\"/\")[-1]  # Or use more sophisticated logic if needed\n",
    "        \n",
    "        # Gather literal predicates\n",
    "        predicates = set()\n",
    "        for p, o in g.predicate_objects(s):\n",
    "            if isinstance(o, rdflib.Literal):\n",
    "                pred_name = p.split(\"/\")[-1] if \"/\" in str(p) else str(p)\n",
    "                predicates.add(pred_name)\n",
    "        if type_ not in type_predicate_map:\n",
    "            type_predicate_map[type_] = set()\n",
    "        type_predicate_map[type_].update(predicates)\n",
    "    \n",
    "    # Build dedupe.io field definitions per entity type\n",
    "    dedupe_fields = {}\n",
    "    for type_, preds in type_predicate_map.items():\n",
    "        dedupe_fields[type_] = [\n",
    "            {'field': pred, 'type': 'String'} for pred in preds if pred.lower() != \"identifier\"\n",
    "]\n",
    "\n",
    "    return dedupe_fields\n",
    "\n",
    "fields_per_type = extract_dedupe_fields_from_ttl(\"data/healthcare_graph_original_v2.ttl\")\n",
    "for entity_type, fields in fields_per_type.items():\n",
    "    print(f\"Entity type: {entity_type}\")\n",
    "    print(fields)\n",
    "    print()"
   ]
  },
  {
   "cell_type": "code",
   "execution_count": 3,
   "id": "d99a7636",
   "metadata": {},
   "outputs": [],
   "source": [
    "from modular_methods.graphToText_utils import kg_to_dedupe_dict\n",
    "g = rdflib.Graph()\n",
    "g1 = rdflib.Graph()\n",
    "g.parse(\"data/healthcare_graph_original_v2.ttl\")\n",
    "g1.parse(\"data/prog_data/healthcare_graph_progdups.ttl\")\n",
    "dict1 = kg_to_dedupe_dict(g)\n",
    "dict2 = kg_to_dedupe_dict(g1)   "
   ]
  },
  {
   "cell_type": "code",
   "execution_count": null,
   "id": "872bc3c5",
   "metadata": {},
   "outputs": [],
   "source": [
    "import json\n",
    "with open(\"dict1_person.json\", \"w\") as f:\n",
    "    json.dump(dict1, f, indent=2)\n",
    "with open(\"dict2_person.json\", \"w\") as f:\n",
    "    json.dump(dict2, f, indent=2)"
   ]
  }
 ],
 "metadata": {
  "kernelspec": {
   "display_name": "venv",
   "language": "python",
   "name": "python3"
  },
  "language_info": {
   "codemirror_mode": {
    "name": "ipython",
    "version": 3
   },
   "file_extension": ".py",
   "mimetype": "text/x-python",
   "name": "python",
   "nbconvert_exporter": "python",
   "pygments_lexer": "ipython3",
   "version": "3.10.11"
  }
 },
 "nbformat": 4,
 "nbformat_minor": 5
}
